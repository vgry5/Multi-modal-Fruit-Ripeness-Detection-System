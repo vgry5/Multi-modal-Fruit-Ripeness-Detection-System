{
 "cells": [
  {
   "cell_type": "code",
   "execution_count": 51,
   "id": "17278960-ba65-402c-b3ff-1cae3bdbb90c",
   "metadata": {},
   "outputs": [],
   "source": [
    "import matplotlib.pyplot as plt \n",
    "import numpy as np \n",
    "import pathlib\n",
    "import os\n",
    "import PIL\n",
    "import tensorflow as tf \n",
    "from tensorflow import keras\n",
    "from tensorflow.keras import layers\n",
    "from tensorflow.python.keras.layers import Dense, Reshape, Flatten, Dropout, MaxPooling2D, Conv2D, GlobalAveragePooling2D\n",
    "from keras.layers import BatchNormalization\n",
    "from tensorflow.keras.models import Sequential\n",
    "from tensorflow.keras.optimizers.legacy import Adam as LegacyAdam\n",
    "from tensorflow.keras.preprocessing.image import ImageDataGenerator\n",
    "from tensorflow.keras.callbacks import EarlyStopping"
   ]
  },
  {
   "cell_type": "code",
   "execution_count": 52,
   "id": "98c64c1e-6890-4f74-946d-5237764ba582",
   "metadata": {},
   "outputs": [
    {
     "name": "stdout",
     "output_type": "stream",
     "text": [
      "Found 10261 files belonging to 3 classes.\n",
      "Using 9235 files for training.\n"
     ]
    }
   ],
   "source": [
    "dataset_dir = pathlib.Path('/Users/admin/Downloads/DSGP/Data Set copy')\n",
    "img_height, img_width = 180,180\n",
    "batch_size = 16\n",
    "train_ds = tf.keras.preprocessing.image_dataset_from_directory(\n",
    "    dataset_dir,\n",
    "    validation_split=0.1,\n",
    "    subset=\"training\",\n",
    "    seed=123,\n",
    "    label_mode=\"categorical\",\n",
    "    image_size=(img_height, img_width),\n",
    "    batch_size=batch_size)"
   ]
  },
  {
   "cell_type": "code",
   "execution_count": 53,
   "id": "2342f7ae-745e-447f-97fd-6465bdc4ab55",
   "metadata": {},
   "outputs": [
    {
     "name": "stdout",
     "output_type": "stream",
     "text": [
      "Found 10261 files belonging to 3 classes.\n",
      "Using 1026 files for validation.\n"
     ]
    }
   ],
   "source": [
    "vali_ds = tf.keras.preprocessing.image_dataset_from_directory(\n",
    "    dataset_dir,\n",
    "    validation_split=0.1,\n",
    "    subset=\"validation\",\n",
    "    seed=123,\n",
    "    label_mode=\"categorical\",\n",
    "    image_size=(img_height, img_width),\n",
    "    batch_size=batch_size)"
   ]
  },
  {
   "cell_type": "code",
   "execution_count": 54,
   "id": "7f268380-f2ff-4dd0-bd21-565b17220ae9",
   "metadata": {},
   "outputs": [
    {
     "name": "stdout",
     "output_type": "stream",
     "text": [
      "['Over Ripe', 'Ripe', 'Unripe']\n"
     ]
    }
   ],
   "source": [
    "class_names = train_ds.class_names\n",
    "print(class_names)"
   ]
  },
  {
   "cell_type": "code",
   "execution_count": 55,
   "id": "552830a7-ed21-4d8b-9b8a-846c3b81bca1",
   "metadata": {},
   "outputs": [],
   "source": [
    "early_stopping = EarlyStopping(\n",
    "    monitor='val_loss',  \n",
    "    patience=3,          \n",
    "    restore_best_weights=True,  \n",
    ")"
   ]
  },
  {
   "cell_type": "code",
   "execution_count": 56,
   "id": "a8268500-62fe-4543-a418-5e783214b6a7",
   "metadata": {},
   "outputs": [],
   "source": [
    "efficientnet_model = Sequential()\n",
    "\n",
    "pretrained_m =tf.keras.applications.EfficientNetB7(\n",
    "    include_top=False,\n",
    "    weights=\"imagenet\",\n",
    "    input_tensor=None,\n",
    "    input_shape=(180,180,3),\n",
    "    pooling=None,\n",
    "    classes=3,\n",
    "    classifier_activation=\"softmax\",\n",
    ")\n",
    "for layer in pretrained_m.layers:\n",
    "    layer.trainable = False\n",
    "    \n",
    "efficientnet_model.add(pretrained_m)\n",
    "efficientnet_model.add(BatchNormalization())\n",
    "efficientnet_model.add(GlobalAveragePooling2D())\n",
    "efficientnet_model.add(Flatten())\n",
    "efficientnet_model.add(Dense(256, activation='relu'))\n",
    "efficientnet_model.add(Dropout(0.2))\n",
    "efficientnet_model.add(Dense(3, activation='softmax'))"
   ]
  },
  {
   "cell_type": "code",
   "execution_count": 57,
   "id": "bfa063e1-a2fe-4921-97fe-1f59452b570c",
   "metadata": {},
   "outputs": [
    {
     "name": "stdout",
     "output_type": "stream",
     "text": [
      "Model: \"sequential_2\"\n",
      "_________________________________________________________________\n",
      " Layer (type)                Output Shape              Param #   \n",
      "=================================================================\n",
      " efficientnetb7 (Functional  (None, 6, 6, 2560)        64097687  \n",
      " )                                                               \n",
      "                                                                 \n",
      " batch_normalization_2 (Bat  (None, 6, 6, 2560)        10240     \n",
      " chNormalization)                                                \n",
      "                                                                 \n",
      " module_wrapper_10 (ModuleW  (None, 2560)              0         \n",
      " rapper)                                                         \n",
      "                                                                 \n",
      " module_wrapper_11 (ModuleW  (None, 2560)              0         \n",
      " rapper)                                                         \n",
      "                                                                 \n",
      " module_wrapper_12 (ModuleW  (None, 256)               655616    \n",
      " rapper)                                                         \n",
      "                                                                 \n",
      " module_wrapper_13 (ModuleW  (None, 256)               0         \n",
      " rapper)                                                         \n",
      "                                                                 \n",
      " module_wrapper_14 (ModuleW  (None, 3)                 771       \n",
      " rapper)                                                         \n",
      "                                                                 \n",
      "=================================================================\n",
      "Total params: 64764314 (247.06 MB)\n",
      "Trainable params: 661507 (2.52 MB)\n",
      "Non-trainable params: 64102807 (244.53 MB)\n",
      "_________________________________________________________________\n"
     ]
    }
   ],
   "source": [
    "efficientnet_model.summary()"
   ]
  },
  {
   "cell_type": "code",
   "execution_count": 58,
   "id": "cd2345dd-fc94-41c7-80e9-58232b0e525e",
   "metadata": {},
   "outputs": [],
   "source": [
    "efficientnet_model.compile(optimizer=LegacyAdam(learning_rate=0.01),loss='categorical_crossentropy',metrics=['accuracy'])"
   ]
  },
  {
   "cell_type": "code",
   "execution_count": 59,
   "id": "9bd3e6b8-e8ed-4e46-8961-eae979929d9d",
   "metadata": {},
   "outputs": [
    {
     "name": "stdout",
     "output_type": "stream",
     "text": [
      "Epoch 1/100\n",
      "578/578 [==============================] - 182s 288ms/step - loss: 4.9192 - accuracy: 0.8410 - val_loss: 7.9875 - val_accuracy: 0.8996\n",
      "Epoch 2/100\n",
      "578/578 [==============================] - 120s 206ms/step - loss: 12.3031 - accuracy: 0.8789 - val_loss: 7.6546 - val_accuracy: 0.9259\n",
      "Epoch 3/100\n",
      "578/578 [==============================] - 121s 209ms/step - loss: 18.5840 - accuracy: 0.8847 - val_loss: 10.1953 - val_accuracy: 0.9162\n",
      "Epoch 4/100\n",
      "578/578 [==============================] - 120s 208ms/step - loss: 22.7021 - accuracy: 0.9027 - val_loss: 15.7531 - val_accuracy: 0.9191\n",
      "Epoch 5/100\n",
      "578/578 [==============================] - 122s 210ms/step - loss: 30.6270 - accuracy: 0.9058 - val_loss: 28.4501 - val_accuracy: 0.9444\n"
     ]
    }
   ],
   "source": [
    "\n",
    "history = efficientnet_model.fit(\n",
    "    train_ds,  \n",
    "    epochs=100,   \n",
    "    validation_data=vali_ds,  \n",
    "    callbacks=[early_stopping],    \n",
    ")"
   ]
  },
  {
   "cell_type": "code",
   "execution_count": 60,
   "id": "a9d19a7c-7304-495e-a926-8aee11335c26",
   "metadata": {},
   "outputs": [
    {
     "data": {
      "image/png": "[encoded data removed]",
      "text/plain": [
       "<Figure size 640x480 with 1 Axes>"
      ]
     },
     "metadata": {},
     "output_type": "display_data"
    }
   ],
   "source": [
    "fig = plt.gcf()\n",
    "plt.plot(history.history['accuracy'])\n",
    "plt.plot(history.history['val_accuracy'])\n",
    "plt.axis(ymin=0.4,ymax=2)\n",
    "plt.grid()\n",
    "plt.title('Model Accuracy')\n",
    "plt.ylabel('Accuracy')\n",
    "plt.xlabel('Epochs')\n",
    "plt.legend(['train', 'validation'])\n",
    "plt.show()"
   ]
  },
  {
   "cell_type": "code",
   "execution_count": 61,
   "id": "304f9062-d671-469d-a8ed-b99f98b30df2",
   "metadata": {},
   "outputs": [
    {
     "data": {
      "image/png": "[encoded data removed]",
      "text/plain": [
       "<Figure size 640x480 with 1 Axes>"
      ]
     },
     "metadata": {},
     "output_type": "display_data"
    }
   ],
   "source": [
    "plt.plot(history.history['loss'])\n",
    "plt.plot(history.history['val_loss'])\n",
    "plt.grid()\n",
    "plt.title('Model Loss')\n",
    "plt.ylabel('Loss')\n",
    "plt.xlabel('Epochs')\n",
    "plt.legend(['train', 'validation'])\n",
    "plt.show()"
   ]
  },
  {
   "cell_type": "code",
   "execution_count": 74,
   "id": "9a067abf-e171-4282-a84a-b9189a4e3b23",
   "metadata": {},
   "outputs": [],
   "source": [
    "# import cv2\n",
    "# image=cv2.imread('/Users/admin/Downloads/unripe mango.jpeg')\n",
    "# image_resized = cv2.resize(image, (img_height, img_width))\n",
    "# image=np.expand_dims(image_resized,axis=0)\n",
    "# print(image.shape)"
   ]
  },
  {
   "cell_type": "code",
   "execution_count": 75,
   "id": "cc549273-b2a9-4a7f-87bd-41f0e7b3b30d",
   "metadata": {},
   "outputs": [],
   "source": [
    "# pred=efficientnet_model.predict(image)\n",
    "# print(pred)"
   ]
  },
  {
   "cell_type": "code",
   "execution_count": 76,
   "id": "a71627c8-c969-4dcf-a684-83ca3f7b70c5",
   "metadata": {},
   "outputs": [],
   "source": [
    "# output_class = class_names[np.argmax(pred)]\n",
    "# print(\"The fruit is a\", output_class)"
   ]
  },
  {
   "cell_type": "code",
   "execution_count": 107,
   "id": "77408975-9970-4675-83c4-7bb83e5439f0",
   "metadata": {},
   "outputs": [
    {
     "name": "stdout",
     "output_type": "stream",
     "text": [
      "1/1 [==============================] - 0s 119ms/step\n",
      "[[0.000000e+00 2.416666e-15 1.000000e+00]]\n",
      "The fruit is  Unripe\n"
     ]
    }
   ],
   "source": [
    "import cv2\n",
    "def predict_image(model, image_path, class_names):\n",
    "    image = cv2.imread(image_path)\n",
    "    image_resized = cv2.resize(image, (img_height, img_width))\n",
    "    image = np.expand_dims(image_resized, axis=0)\n",
    "\n",
    "    pred = efficientnet_model.predict(image)\n",
    "    print(pred)\n",
    "    confidence_threshold = 0.5\n",
    "    if np.max(pred) < confidence_threshold:\n",
    "        return \"unknown\"\n",
    "    \n",
    "    output_class = class_names[np.argmax(pred)]\n",
    "    return output_class\n",
    "\n",
    "image_path = '/Users/admin/Downloads/rawban.jpeg'\n",
    "predicted_class = predict_image(efficientnet_model, image_path, class_names)\n",
    "\n",
    "print(\"The fruit is \", predicted_class)"
   ]
  },
  {
   "cell_type": "code",
   "execution_count": null,
   "id": "38674c38-b768-4feb-adca-90156a00a76a",
   "metadata": {},
   "outputs": [],
   "source": []
  }
 ],
 "metadata": {
  "kernelspec": {
   "display_name": "Python 3.12(tensorflow)",
   "language": "python",
   "name": "tensorflow"
  },
  "language_info": {
   "codemirror_mode": {
    "name": "ipython",
    "version": 3
   },
   "file_extension": ".py",
   "mimetype": "text/x-python",
   "name": "python",
   "nbconvert_exporter": "python",
   "pygments_lexer": "ipython3",
   "version": "3.10.13"
  }
 },
 "nbformat": 4,
 "nbformat_minor": 5
}
