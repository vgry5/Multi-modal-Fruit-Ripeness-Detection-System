{
 "cells": [
  {
   "cell_type": "code",
   "execution_count": 2,
   "id": "d21f057e",
   "metadata": {},
   "outputs": [
    {
     "name": "stdout",
     "output_type": "stream",
     "text": [
      "Requirement already satisfied: scikit-learn in c:\\users\\admin\\anaconda3\\lib\\site-packages (1.4.0)\n",
      "Requirement already satisfied: numpy<2.0,>=1.19.5 in c:\\users\\admin\\anaconda3\\lib\\site-packages (from scikit-learn) (1.24.3)\n",
      "Requirement already satisfied: scipy>=1.6.0 in c:\\users\\admin\\anaconda3\\lib\\site-packages (from scikit-learn) (1.11.1)\n",
      "Requirement already satisfied: joblib>=1.2.0 in c:\\users\\admin\\anaconda3\\lib\\site-packages (from scikit-learn) (1.2.0)\n",
      "Requirement already satisfied: threadpoolctl>=2.0.0 in c:\\users\\admin\\anaconda3\\lib\\site-packages (from scikit-learn) (2.2.0)\n",
      "Requirement already satisfied: imbalanced-learn in c:\\users\\admin\\anaconda3\\lib\\site-packages (0.12.0)\n",
      "Requirement already satisfied: numpy>=1.17.3 in c:\\users\\admin\\anaconda3\\lib\\site-packages (from imbalanced-learn) (1.24.3)\n",
      "Requirement already satisfied: scipy>=1.5.0 in c:\\users\\admin\\anaconda3\\lib\\site-packages (from imbalanced-learn) (1.11.1)\n",
      "Requirement already satisfied: scikit-learn>=1.0.2 in c:\\users\\admin\\anaconda3\\lib\\site-packages (from imbalanced-learn) (1.4.0)\n",
      "Requirement already satisfied: joblib>=1.1.1 in c:\\users\\admin\\anaconda3\\lib\\site-packages (from imbalanced-learn) (1.2.0)\n",
      "Requirement already satisfied: threadpoolctl>=2.0.0 in c:\\users\\admin\\anaconda3\\lib\\site-packages (from imbalanced-learn) (2.2.0)\n",
      "WARNING:tensorflow:From C:\\Users\\admin\\anaconda3\\Lib\\site-packages\\keras\\src\\losses.py:2976: The name tf.losses.sparse_softmax_cross_entropy is deprecated. Please use tf.compat.v1.losses.sparse_softmax_cross_entropy instead.\n",
      "\n"
     ]
    }
   ],
   "source": [
    "!pip install --upgrade scikit-learn\n",
    "!pip install --upgrade imbalanced-learn\n",
    "\n",
    "import tensorflow as tf\n",
    "from tensorflow.keras import models,layers\n",
    "import matplotlib.pyplot as plt\n",
    "\n",
    "import numpy as np\n",
    "from imblearn.over_sampling import SMOTE\n",
    "\n",
    "\n",
    "from tensorflow.keras.preprocessing.image import ImageDataGenerator"
   ]
  },
  {
   "cell_type": "code",
   "execution_count": 3,
   "id": "2d00d67e",
   "metadata": {},
   "outputs": [
    {
     "name": "stdout",
     "output_type": "stream",
     "text": [
      "Found 7182 images belonging to 3 classes.\n"
     ]
    }
   ],
   "source": [
    "train = ImageDataGenerator(\n",
    "    rescale =1./255,\n",
    "    horizontal_flip =True,\n",
    "    rotation_range=20,\n",
    "    width_shift_range=0.2,\n",
    "    height_shift_range=0.2,\n",
    "    shear_range=0.2,\n",
    "    zoom_range=0.2,\n",
    "    fill_mode='nearest'\n",
    ")\n",
    "\n",
    "train_generator =train.flow_from_directory(\n",
    "    'wholedataset/train',\n",
    "    target_size=(256,256),\n",
    "    batch_size=32,\n",
    "    class_mode='sparse'\n",
    ")\n"
   ]
  },
  {
   "cell_type": "code",
   "execution_count": 4,
   "id": "52c7818e",
   "metadata": {},
   "outputs": [
    {
     "data": {
      "text/plain": [
       "['Over Ripe', 'Ripe', 'Unripe']"
      ]
     },
     "execution_count": 4,
     "metadata": {},
     "output_type": "execute_result"
    }
   ],
   "source": [
    "class_names = list(train_generator.class_indices.keys())\n",
    "class_names"
   ]
  },
  {
   "cell_type": "code",
   "execution_count": 5,
   "id": "76acf241",
   "metadata": {},
   "outputs": [
    {
     "name": "stdout",
     "output_type": "stream",
     "text": [
      "Found 660 images belonging to 3 classes.\n"
     ]
    }
   ],
   "source": [
    "validation= ImageDataGenerator(\n",
    "    rescale =1./255,\n",
    "    horizontal_flip =True,\n",
    "    rotation_range=20,\n",
    "    width_shift_range=0.2,\n",
    "    height_shift_range=0.2,\n",
    "    shear_range=0.2,\n",
    "    zoom_range=0.2,\n",
    "    fill_mode='nearest'\n",
    ")\n",
    "\n",
    "val_generator =validation.flow_from_directory(\n",
    "    'Equal_dataset/val',\n",
    "    target_size=(256,256),\n",
    "    batch_size=32,\n",
    "    class_mode='sparse',\n",
    ")"
   ]
  },
  {
   "cell_type": "code",
   "execution_count": 6,
   "id": "7967c5af",
   "metadata": {},
   "outputs": [
    {
     "name": "stdout",
     "output_type": "stream",
     "text": [
      "Found 1320 images belonging to 3 classes.\n"
     ]
    }
   ],
   "source": [
    "test = ImageDataGenerator(\n",
    "    rescale =1./255,\n",
    "    horizontal_flip =True,\n",
    "    rotation_range=20,\n",
    "    width_shift_range=0.2,\n",
    "    height_shift_range=0.2,\n",
    "    shear_range=0.2,\n",
    "    zoom_range=0.2,\n",
    "    fill_mode='nearest'\n",
    ")\n",
    "\n",
    "test_generator =test.flow_from_directory(\n",
    "    'Equal_dataset/test',\n",
    "    target_size=(256,256),\n",
    "    batch_size=32,\n",
    "    class_mode='sparse',\n",
    ")"
   ]
  },
  {
   "cell_type": "code",
   "execution_count": null,
   "id": "92734126",
   "metadata": {},
   "outputs": [],
   "source": [
    "from imblearn.over_sampling import SMOTE\n",
    "\n",
    "# Load your original training dataset using ImageDataGenerator\n",
    "# ...\n",
    "\n",
    "# Convert the ImageDataGenerator output to NumPy arrays\n",
    "X_train, y_train = [], []\n",
    "\n",
    "for images, labels in train_generator:\n",
    "    X_train.extend(images)\n",
    "    y_train.extend(labels)\n",
    "\n",
    "X_train = np.array(X_train)\n",
    "y_train = np.array(y_train)\n",
    "\n",
    "# Flatten images for SMOTE\n",
    "X_train_flat = X_train.reshape(X_train.shape[0], -1)\n",
    "\n",
    "# Apply SMOTE to balance the dataset\n",
    "smote_batch_size = 16  # Adjust as needed\n",
    "smote = SMOTE(random_state=123)\n",
    "\n",
    "X_train_balanced, y_train_balanced = smote.fit_resample(X_train_flat, y_train)\n",
    "\n",
    "# Reshape images back to the original shape\n",
    "X_train_balanced = X_train_balanced.reshape(-1, 256, 256, 3)\n",
    "\n",
    "# Convert labels back to categorical\n",
    "y_train_balanced = tf.keras.utils.to_categorical(y_train_balanced, num_classes=len(class_names))\n",
    "\n",
    "# Create a new balanced dataset\n",
    "train_generator_balanced = tf.data.Dataset.from_tensor_slices((X_train_balanced, y_train_balanced))\n",
    "train_generator_balanced = train_generator_balanced.shuffle(len(X_train_balanced)).batch(32)\n",
    "\n",
    "# Now you can use train_generator_balanced for training\n",
    "history = model.fit(\n",
    "    train_generator_balanced,\n",
    "    batch_size=32,\n",
    "    epochs=15,\n",
    "    validation_data=val_generator,\n",
    "    validation_steps=3,\n",
    "    verbose=1,\n",
    ")\n"
   ]
  },
  {
   "cell_type": "code",
   "execution_count": null,
   "id": "6b95483a",
   "metadata": {},
   "outputs": [],
   "source": []
  }
 ],
 "metadata": {
  "kernelspec": {
   "display_name": "Python 3 (ipykernel)",
   "language": "python",
   "name": "python3"
  },
  "language_info": {
   "codemirror_mode": {
    "name": "ipython",
    "version": 3
   },
   "file_extension": ".py",
   "mimetype": "text/x-python",
   "name": "python",
   "nbconvert_exporter": "python",
   "pygments_lexer": "ipython3",
   "version": "3.11.5"
  }
 },
 "nbformat": 4,
 "nbformat_minor": 5
}
