{
 "cells": [
  {
   "cell_type": "code",
   "execution_count": 1,
   "id": "65cea8e5-f39c-408e-97e4-0ade9206c7b4",
   "metadata": {},
   "outputs": [],
   "source": [
    "import matplotlib.pyplot as plt \n",
    "import numpy as np \n",
    "import pathlib\n",
    "import os\n",
    "import PIL\n",
    "import tensorflow as tf \n",
    "from tensorflow import keras\n",
    "from tensorflow.keras import layers\n",
    "from tensorflow.python.keras.layers import Dense, Reshape, Flatten, Dropout, MaxPooling2D, Conv2D, GlobalAveragePooling2D\n",
    "from keras.layers import BatchNormalization\n",
    "from tensorflow.keras.models import Sequential\n",
    "from tensorflow.keras.optimizers.legacy import Adam as LegacyAdam\n",
    "from tensorflow.keras.preprocessing.image import ImageDataGenerator\n",
    "from tensorflow.keras.callbacks import ReduceLROnPlateau, EarlyStopping\n"
   ]
  },
  {
   "cell_type": "code",
   "execution_count": 2,
   "id": "719c8eab-ee34-48d1-9189-17301e798f44",
   "metadata": {},
   "outputs": [],
   "source": [
    "train_p = '/Users/admin/Downloads/DSGP/Fruit Dataset_S/train'\n",
    "vali_p = '/Users/admin/Downloads/DSGP/Fruit Dataset_S/val'"
   ]
  },
  {
   "cell_type": "code",
   "execution_count": 3,
   "id": "1268a584-9fc3-4ce6-ae0a-7265e85e8241",
   "metadata": {},
   "outputs": [
    {
     "ename": "FileNotFoundError",
     "evalue": "[Errno 2] No such file or directory: '/Users/admin/Downloads/DSGP/Fruit Dataset_S/train/U'",
     "output_type": "error",
     "traceback": [
      "\u001b[0;31m---------------------------------------------------------------------------\u001b[0m",
      "\u001b[0;31mFileNotFoundError\u001b[0m                         Traceback (most recent call last)",
      "Cell \u001b[0;32mIn[3], line 4\u001b[0m\n\u001b[1;32m      1\u001b[0m class_labels \u001b[38;5;241m=\u001b[39m []\n\u001b[1;32m      3\u001b[0m \u001b[38;5;28;01mfor\u001b[39;00m item \u001b[38;5;129;01min\u001b[39;00m train_p:\n\u001b[0;32m----> 4\u001b[0m  all_classes \u001b[38;5;241m=\u001b[39m \u001b[43mos\u001b[49m\u001b[38;5;241;43m.\u001b[39;49m\u001b[43mlistdir\u001b[49m\u001b[43m(\u001b[49m\u001b[38;5;124;43m'\u001b[39;49m\u001b[38;5;124;43m/Users/admin/Downloads/DSGP/Fruit Dataset_S/train\u001b[39;49m\u001b[38;5;124;43m'\u001b[39;49m\u001b[43m \u001b[49m\u001b[38;5;241;43m+\u001b[39;49m\u001b[43m \u001b[49m\u001b[38;5;124;43m'\u001b[39;49m\u001b[38;5;124;43m/\u001b[39;49m\u001b[38;5;124;43m'\u001b[39;49m\u001b[43m \u001b[49m\u001b[38;5;241;43m+\u001b[39;49m\u001b[43mitem\u001b[49m\u001b[43m)\u001b[49m\n\u001b[1;32m      6\u001b[0m \u001b[38;5;28;01mfor\u001b[39;00m room \u001b[38;5;129;01min\u001b[39;00m all_classes:\n\u001b[1;32m      7\u001b[0m     class_labels\u001b[38;5;241m.\u001b[39mappend((item, \u001b[38;5;28mstr\u001b[39m(\u001b[38;5;124m'\u001b[39m\u001b[38;5;124mtrain_p\u001b[39m\u001b[38;5;124m'\u001b[39m \u001b[38;5;241m+\u001b[39m \u001b[38;5;124m'\u001b[39m\u001b[38;5;124m/\u001b[39m\u001b[38;5;124m'\u001b[39m \u001b[38;5;241m+\u001b[39mitem) \u001b[38;5;241m+\u001b[39m \u001b[38;5;124m'\u001b[39m\u001b[38;5;124m/\u001b[39m\u001b[38;5;124m'\u001b[39m \u001b[38;5;241m+\u001b[39m room))\n",
      "\u001b[0;31mFileNotFoundError\u001b[0m: [Errno 2] No such file or directory: '/Users/admin/Downloads/DSGP/Fruit Dataset_S/train/U'"
     ]
    }
   ],
   "source": [
    "class_labels = []\n",
    "\n",
    "for item in train_p:\n",
    " all_classes = os.listdir('/Users/admin/Downloads/DSGP/Fruit Dataset_S/train' + '/' +item)\n",
    "\n",
    "for room in all_classes:\n",
    "    class_labels.append((item, str('train_p' + '/' +item) + '/' + room))"
   ]
  },
  {
   "cell_type": "code",
   "execution_count": 4,
   "id": "2924b714-f472-4bc4-b8b1-61cb28e1beda",
   "metadata": {},
   "outputs": [
    {
     "name": "stdout",
     "output_type": "stream",
     "text": [
      "Found 5280 files belonging to 3 classes.\n"
     ]
    },
    {
     "name": "stderr",
     "output_type": "stream",
     "text": [
      "2024-02-12 06:42:04.158105: I metal_plugin/src/device/metal_device.cc:1154] Metal device set to: Apple M1 Pro\n",
      "2024-02-12 06:42:04.158138: I metal_plugin/src/device/metal_device.cc:296] systemMemory: 16.00 GB\n",
      "2024-02-12 06:42:04.158147: I metal_plugin/src/device/metal_device.cc:313] maxCacheSize: 5.33 GB\n",
      "2024-02-12 06:42:04.158216: I tensorflow/core/common_runtime/pluggable_device/pluggable_device_factory.cc:306] Could not identify NUMA node of platform GPU ID 0, defaulting to 0. Your kernel may not have been built with NUMA support.\n",
      "2024-02-12 06:42:04.158386: I tensorflow/core/common_runtime/pluggable_device/pluggable_device_factory.cc:272] Created TensorFlow device (/job:localhost/replica:0/task:0/device:GPU:0 with 0 MB memory) -> physical PluggableDevice (device: 0, name: METAL, pci bus id: <undefined>)\n"
     ]
    }
   ],
   "source": []
  },
  {
   "cell_type": "code",
   "execution_count": 5,
   "id": "14365292-13ec-4a56-ade6-8b0fa02ca7ef",
   "metadata": {},
   "outputs": [
    {
     "name": "stdout",
     "output_type": "stream",
     "text": [
      "Found 660 files belonging to 3 classes.\n"
     ]
    }
   ],
   "source": [
    "val_ds = tf.keras.utils.image_dataset_from_directory(\n",
    "    vali_p,\n",
    "    validation_split=None,\n",
    "    subset=None,\n",
    "    shuffle=True,\n",
    "    batch_size=32,\n",
    "    image_size=img_size,\n",
    "    label_mode=\"categorical\",\n",
    ")"
   ]
  },
  {
   "cell_type": "code",
   "execution_count": 6,
   "id": "df521b4e-5d3b-49a0-8e87-7b8aeddcc184",
   "metadata": {},
   "outputs": [
    {
     "name": "stdout",
     "output_type": "stream",
     "text": [
      "['Over Ripe', 'Ripe', 'Unripe']\n"
     ]
    }
   ],
   "source": [
    "class_names = train_ds.class_names\n",
    "print(class_names)"
   ]
  },
  {
   "cell_type": "code",
   "execution_count": 7,
   "id": "f698e5ba-70b7-4257-9f17-eba346553386",
   "metadata": {},
   "outputs": [
    {
     "ename": "TypeError",
     "evalue": "only integer scalar arrays can be converted to a scalar index",
     "output_type": "error",
     "traceback": [
      "\u001b[0;31m---------------------------------------------------------------------------\u001b[0m",
      "\u001b[0;31mTypeError\u001b[0m                                 Traceback (most recent call last)",
      "Cell \u001b[0;32mIn[7], line 6\u001b[0m\n\u001b[1;32m      4\u001b[0m ax \u001b[38;5;241m=\u001b[39m plt\u001b[38;5;241m.\u001b[39msubplot(\u001b[38;5;241m3\u001b[39m, \u001b[38;5;241m3\u001b[39m, i \u001b[38;5;241m+\u001b[39m \u001b[38;5;241m1\u001b[39m)\n\u001b[1;32m      5\u001b[0m plt\u001b[38;5;241m.\u001b[39mimshow(images[i]\u001b[38;5;241m.\u001b[39mnumpy()\u001b[38;5;241m.\u001b[39mastype(\u001b[38;5;124m\"\u001b[39m\u001b[38;5;124muint8\u001b[39m\u001b[38;5;124m\"\u001b[39m))\n\u001b[0;32m----> 6\u001b[0m plt\u001b[38;5;241m.\u001b[39mtitle(\u001b[43mtrain_ds\u001b[49m\u001b[38;5;241;43m.\u001b[39;49m\u001b[43mclass_names\u001b[49m\u001b[43m[\u001b[49m\u001b[43mlabels\u001b[49m\u001b[43m[\u001b[49m\u001b[43mi\u001b[49m\u001b[43m]\u001b[49m\u001b[43m]\u001b[49m)\n\u001b[1;32m      7\u001b[0m plt\u001b[38;5;241m.\u001b[39maxis(\u001b[38;5;124m\"\u001b[39m\u001b[38;5;124moff\u001b[39m\u001b[38;5;124m\"\u001b[39m)\n",
      "File \u001b[0;32m~/anaconda3/envs/tensorflow/lib/python3.10/site-packages/tensorflow/python/framework/ops.py:297\u001b[0m, in \u001b[0;36m_EagerTensorBase.__index__\u001b[0;34m(self)\u001b[0m\n\u001b[1;32m    296\u001b[0m \u001b[38;5;28;01mdef\u001b[39;00m \u001b[38;5;21m__index__\u001b[39m(\u001b[38;5;28mself\u001b[39m):\n\u001b[0;32m--> 297\u001b[0m   \u001b[38;5;28;01mreturn\u001b[39;00m \u001b[38;5;28;43mself\u001b[39;49m\u001b[38;5;241;43m.\u001b[39;49m\u001b[43m_numpy\u001b[49m\u001b[43m(\u001b[49m\u001b[43m)\u001b[49m\u001b[38;5;241;43m.\u001b[39;49m\u001b[38;5;21;43m__index__\u001b[39;49m\u001b[43m(\u001b[49m\u001b[43m)\u001b[49m\n",
      "\u001b[0;31mTypeError\u001b[0m: only integer scalar arrays can be converted to a scalar index"
     ]
    },
    {
     "data": {
      "image/png": "[encoded data removed]",
      "text/plain": [
       "<Figure size 700x700 with 1 Axes>"
      ]
     },
     "metadata": {},
     "output_type": "display_data"
    }
   ],
   "source": [
    "plt.figure(figsize=(7, 7))\n",
    "for images, labels in train_ds.take(1):\n",
    "    for i in range(9):\n",
    "        ax = plt.subplot(3, 3, i + 1)\n",
    "        plt.imshow(images[i].numpy().astype(\"uint8\"))\n",
    "        plt.title(train_ds.class_names[labels[i]])\n",
    "        plt.axis(\"off\")"
   ]
  },
  {
   "cell_type": "code",
   "execution_count": 9,
   "id": "d850a114-5f69-4dd4-b544-bb9275709e0d",
   "metadata": {},
   "outputs": [],
   "source": [
    "efficientnet_model = Sequential()\n",
    "\n",
    "pretrained_m =tf.keras.applications.EfficientNetB7(\n",
    "    include_top=False,\n",
    "    weights=\"imagenet\",\n",
    "    input_tensor=None,\n",
    "    input_shape=(600,600,3),\n",
    "    pooling=None,\n",
    "    classes=3,\n",
    "    classifier_activation=\"softmax\",\n",
    ")\n",
    "for layer in pretrained_m.layers:\n",
    "    layer.trainable = False\n",
    "    \n",
    "efficientnet_model.add(pretrained_m)\n",
    "efficientnet_model.add(BatchNormalization())\n",
    "efficientnet_model.add(GlobalAveragePooling2D())\n",
    "efficientnet_model.add(Flatten())\n",
    "efficientnet_model.add(Dense(256, activation='relu'))\n",
    "efficientnet_model.add(Dropout(0.2))\n",
    "efficientnet_model.add(Dense(128, activation='relu'))\n",
    "efficientnet_model.add(Dropout(0.2))\n",
    "efficientnet_model.add(Dense(64, activation='relu'))\n",
    "efficientnet_model.add(Dropout(0.2))\n",
    "efficientnet_model.add(Dense(3, activation='softmax'))"
   ]
  },
  {
   "cell_type": "code",
   "execution_count": 10,
   "id": "cd0a4de0-450b-497e-a35e-2f26b806ceba",
   "metadata": {},
   "outputs": [
    {
     "name": "stdout",
     "output_type": "stream",
     "text": [
      "Model: \"sequential_1\"\n",
      "_________________________________________________________________\n",
      " Layer (type)                Output Shape              Param #   \n",
      "=================================================================\n",
      " efficientnetb7 (Functional  (None, 19, 19, 2560)      64097687  \n",
      " )                                                               \n",
      "                                                                 \n",
      " batch_normalization_1 (Bat  (None, 19, 19, 2560)      10240     \n",
      " chNormalization)                                                \n",
      "                                                                 \n",
      " module_wrapper_9 (ModuleWr  (None, 2560)              0         \n",
      " apper)                                                          \n",
      "                                                                 \n",
      " module_wrapper_10 (ModuleW  (None, 2560)              0         \n",
      " rapper)                                                         \n",
      "                                                                 \n",
      " module_wrapper_11 (ModuleW  (None, 256)               655616    \n",
      " rapper)                                                         \n",
      "                                                                 \n",
      " module_wrapper_12 (ModuleW  (None, 256)               0         \n",
      " rapper)                                                         \n",
      "                                                                 \n",
      " module_wrapper_13 (ModuleW  (None, 128)               32896     \n",
      " rapper)                                                         \n",
      "                                                                 \n",
      " module_wrapper_14 (ModuleW  (None, 128)               0         \n",
      " rapper)                                                         \n",
      "                                                                 \n",
      " module_wrapper_15 (ModuleW  (None, 64)                8256      \n",
      " rapper)                                                         \n",
      "                                                                 \n",
      " module_wrapper_16 (ModuleW  (None, 64)                0         \n",
      " rapper)                                                         \n",
      "                                                                 \n",
      " module_wrapper_17 (ModuleW  (None, 3)                 195       \n",
      " rapper)                                                         \n",
      "                                                                 \n",
      "=================================================================\n",
      "Total params: 64804890 (247.21 MB)\n",
      "Trainable params: 702083 (2.68 MB)\n",
      "Non-trainable params: 64102807 (244.53 MB)\n",
      "_________________________________________________________________\n"
     ]
    }
   ],
   "source": [
    "efficientnet_model.summary()"
   ]
  },
  {
   "cell_type": "code",
   "execution_count": 11,
   "id": "5b570165-92d7-47de-aafc-e37a88a41c8b",
   "metadata": {},
   "outputs": [],
   "source": [
    "efficientnet_model.compile(optimizer=LegacyAdam(learning_rate=0.001),loss='categorical_crossentropy',metrics=['accuracy'])"
   ]
  },
  {
   "cell_type": "code",
   "execution_count": 12,
   "id": "0b6e5031-a16a-4e98-8bdf-abda25616806",
   "metadata": {},
   "outputs": [],
   "source": [
    "early_stopping = EarlyStopping(\n",
    "    monitor='val_loss',  \n",
    "    patience=20,          \n",
    "    restore_best_weights=True, \n",
    ")"
   ]
  },
  {
   "cell_type": "code",
   "execution_count": null,
   "id": "0e4bd93c-e9f4-4f33-8da5-dbb2fcc7b231",
   "metadata": {},
   "outputs": [
    {
     "name": "stdout",
     "output_type": "stream",
     "text": [
      "Epoch 1/3\n"
     ]
    },
    {
     "name": "stderr",
     "output_type": "stream",
     "text": [
      "2024-02-12 06:42:48.679504: I tensorflow/core/grappler/optimizers/custom_graph_optimizer_registry.cc:117] Plugin optimizer for device_type GPU is enabled.\n"
     ]
    },
    {
     "name": "stdout",
     "output_type": "stream",
     "text": [
      "165/165 [==============================] - 732s 4s/step - loss: 0.6213 - accuracy: 0.8481 - val_loss: 0.3372 - val_accuracy: 0.9091\n",
      "Epoch 2/3\n",
      " 40/165 [======>.......................] - ETA: 8:14 - loss: 0.8803 - accuracy: 0.8609"
     ]
    }
   ],
   "source": [
    "history = efficientnet_model.fit(\n",
    "    train_ds,\n",
    "    validation_data = val_ds,\n",
    "    epochs = 3,\n",
    "    callbacks = [early_stopping],\n",
    ")"
   ]
  },
  {
   "cell_type": "code",
   "execution_count": null,
   "id": "aa3c4511-b6dd-4df0-9560-f34fdab7c4d4",
   "metadata": {},
   "outputs": [],
   "source": [
    "fig = plt.gcf()\n",
    "plt.plot(history.history['accuracy'])\n",
    "plt.plot(history.history['val_accuracy'])\n",
    "plt.axis(ymin=0.1,ymax=2)\n",
    "plt.grid()\n",
    "plt.title('Model Accuracy')\n",
    "plt.ylabel('Accuracy')\n",
    "plt.xlabel('Epochs')\n",
    "plt.legend(['train', 'validation'])\n",
    "plt.show()"
   ]
  },
  {
   "cell_type": "code",
   "execution_count": null,
   "id": "1e0228af-b46b-411b-966e-4a96ba458697",
   "metadata": {},
   "outputs": [],
   "source": [
    "plt.plot(history.history['loss'])\n",
    "plt.plot(history.history['val_loss'])\n",
    "plt.grid()\n",
    "plt.title('Model Loss')\n",
    "plt.ylabel('Loss')\n",
    "plt.xlabel('Epochs')\n",
    "plt.legend(['train', 'validation'])\n",
    "plt.show()"
   ]
  },
  {
   "cell_type": "code",
   "execution_count": null,
   "id": "9684b3cb-7921-4041-a5ce-a6652bf19d81",
   "metadata": {},
   "outputs": [],
   "source": [
    "test_dataset = '/Users/admin/Downloads/DSGP/Fruit Dataset_S/test'"
   ]
  },
  {
   "cell_type": "code",
   "execution_count": null,
   "id": "42e344a4-133c-4fd3-abf4-6cc506dfdb04",
   "metadata": {},
   "outputs": [],
   "source": [
    "test_datagen = ImageDataGenerator(\n",
    "    rescale=1.0/255\n",
    "                                  zoom_range=0.2,\n",
    "                                  width_shift_range=0.2,\n",
    "                                  height_shift_range=0.2,\n",
    "                                  fill_mode='nearest')\n",
    "\n",
    "test_generator = test_datagen.flow_from_directory(test_dataset,\n",
    "                                                 shuffle=False,\n",
    "                                                 batch_size=BATCH_SIZE,\n",
    "                                                 target_size = (IMG_WIDTH, IMG_HEIGHT),\n",
    "                                                 class_mode='categorical')"
   ]
  },
  {
   "cell_type": "code",
   "execution_count": null,
   "id": "82bea97a-276f-4fc3-8e26-fe527db4f746",
   "metadata": {},
   "outputs": [],
   "source": [
    "predictions = efficientnet_model.predict(test_generator)"
   ]
  },
  {
   "cell_type": "code",
   "execution_count": null,
   "id": "b32a9d10-326f-4276-a0ee-7bc559f46fa2",
   "metadata": {},
   "outputs": [],
   "source": [
    "fig, ax = plt.subplots(nrows=2, ncols=5, figsize=(12, 10))\n",
    "idx = 0\n",
    "\n",
    "for i in range(2):\n",
    "    for j in range(5):\n",
    "        predicted_label = labels[np.argmax(predictions[idx])]\n",
    "        ax[i, j].set_title(f\"{predicted_label}\")\n",
    "        ax[i, j].imshow(test_generator[0][0][idx])\n",
    "        ax[i, j].axis(\"off\")\n",
    "        idx += 1\n",
    "\n",
    "plt.tight_layout()\n",
    "plt.suptitle(\"Test Dataset Predictions\", fontsize=20)\n",
    "plt.show()"
   ]
  },
  {
   "cell_type": "code",
   "execution_count": null,
   "id": "7aa9e40a-705d-4a69-9722-f4ef953a4bc0",
   "metadata": {},
   "outputs": [],
   "source": [
    "test_loss, test_accuracy = efficientnet_model.evaluate(test_generator, batch_size=BATCH_SIZE)"
   ]
  },
  {
   "cell_type": "code",
   "execution_count": null,
   "id": "96a3c535-df82-4d57-bccb-874aca6be5b8",
   "metadata": {},
   "outputs": [],
   "source": [
    "print(f\"Test Loss:     {test_loss}\")\n",
    "print(f\"Test Accuracy: {test_accuracy}\")"
   ]
  },
  {
   "cell_type": "code",
   "execution_count": null,
   "id": "dabc9b2c-9013-4013-8bf6-b297ecbece91",
   "metadata": {},
   "outputs": [],
   "source": [
    "y_pred = np.argmax(predictions, axis=1)\n",
    "y_true = test_generator.classes"
   ]
  },
  {
   "cell_type": "code",
   "execution_count": null,
   "id": "a1a7dcc6-1e11-4947-8e69-8f5c98b6ec6c",
   "metadata": {},
   "outputs": [],
   "source": [
    "cm = confusion_matrix(y_true, y_pred)\n",
    "\n",
    "fig, ax = plt.subplots(figsize=(5,5))\n",
    "sns.set(font_scale=1.2)\n",
    "sns.heatmap(cm, annot=True, linewidths=.5, ax=ax)"
   ]
  },
  {
   "cell_type": "code",
   "execution_count": null,
   "id": "15197e98-e265-4d98-8b3f-b6a36a7dd3d4",
   "metadata": {},
   "outputs": [],
   "source": [
    "print(classification_report(y_true, y_pred, target_names=labels.values()))"
   ]
  },
  {
   "cell_type": "code",
   "execution_count": null,
   "id": "b4c6b82c-8aa2-41a4-9d10-7becf0e6246c",
   "metadata": {},
   "outputs": [],
   "source": [
    "errors = (y_true - y_pred != 0)\n",
    "y_true_errors = y_true[errors]\n",
    "y_pred_errors = y_pred[errors]"
   ]
  },
  {
   "cell_type": "code",
   "execution_count": null,
   "id": "d77811c5-aa15-4bb9-b989-b3951cf715fb",
   "metadata": {},
   "outputs": [],
   "source": [
    "fig, ax = plt.subplots(nrows=2, ncols=5, figsize=(12, 10))\n",
    "idx = 0\n",
    "\n",
    "for i in range(2):\n",
    "    for j in range(5):\n",
    "        idx = np.random.randint(0, len(test_img))\n",
    "        true_index = y_true_errors[idx]\n",
    "        true_label = labels[true_index]\n",
    "        predicted_index = y_pred_errors[idx]\n",
    "        predicted_label = labels[predicted_index]\n",
    "        ax[i, j].set_title(f\"True Label: {true_label} \\n Predicted Label: {predicted_label}\")\n",
    "        img_path = os.path.join(test_dataset, test_img[idx])\n",
    "        img = cv2.imread(img_path)\n",
    "        img = cv2.cvtColor(img, cv2.COLOR_BGR2RGB)\n",
    "        ax[i, j].imshow(img)\n",
    "        ax[i, j].axis(\"off\")\n",
    "\n",
    "plt.tight_layout()\n",
    "plt.suptitle('Wrong Predictions made on test set', fontsize=20)\n",
    "plt.show()"
   ]
  },
  {
   "cell_type": "code",
   "execution_count": null,
   "id": "82eba4c6-bfb5-4f7e-bf07-570b76e05d29",
   "metadata": {},
   "outputs": [],
   "source": []
  }
 ],
 "metadata": {
  "kernelspec": {
   "display_name": "Python 3.12(tensorflow)",
   "language": "python",
   "name": "tensorflow"
  },
  "language_info": {
   "codemirror_mode": {
    "name": "ipython",
    "version": 3
   },
   "file_extension": ".py",
   "mimetype": "text/x-python",
   "name": "python",
   "nbconvert_exporter": "python",
   "pygments_lexer": "ipython3",
   "version": "3.10.13"
  }
 },
 "nbformat": 4,
 "nbformat_minor": 5
}
