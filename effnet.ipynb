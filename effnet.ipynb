{
 "cells": [
  {
   "cell_type": "code",
   "execution_count": 1,
   "id": "78854609-6f1d-44c1-9eb3-a6b03ecd1475",
   "metadata": {},
   "outputs": [],
   "source": [
    "import matplotlib.pyplot as plt \n",
    "import numpy as np \n",
    "import pathlib\n",
    "import os\n",
    "import PIL\n",
    "import tensorflow as tf \n",
    "from tensorflow import keras\n",
    "from tensorflow.keras import layers\n",
    "from tensorflow.python.keras.layers import Dense, Reshape, Flatten, Dropout, MaxPooling2D, Conv2D, GlobalAveragePooling2D\n",
    "from keras.layers import BatchNormalization\n",
    "from tensorflow.keras.models import Sequential\n",
    "from tensorflow.keras.optimizers.legacy import Adam as LegacyAdam\n",
    "from tensorflow.keras.preprocessing.image import ImageDataGenerator\n",
    "from tensorflow.keras.callbacks import EarlyStopping\n",
    "from tensorflow.keras.preprocessing.image import img_to_array, load_img\n",
    "from tensorflow.keras.utils import to_categorical"
   ]
  },
  {
   "cell_type": "code",
   "execution_count": 5,
   "id": "024540f6-cd9d-4421-8d5d-5c937c02fbcd",
   "metadata": {},
   "outputs": [],
   "source": [
    "train_p = '/Users/admin/Downloads/DSGP/Fruit Dataset_S/train'\n",
    "vali_p = '/Users/admin/Downloads/DSGP/Fruit Dataset_S/val'\n",
    "test = '/Users/admin/Downloads/DSGP/Fruit Dataset_S/test'"
   ]
  },
  {
   "cell_type": "code",
   "execution_count": 8,
   "id": "01c1f132-b8dc-441a-a1a4-3ede97374cdf",
   "metadata": {},
   "outputs": [],
   "source": [
    "img_size = (240,240)"
   ]
  },
  {
   "cell_type": "code",
   "execution_count": 10,
   "id": "f079c39c-37c8-4c9e-9b58-bc6401339795",
   "metadata": {},
   "outputs": [
    {
     "name": "stdout",
     "output_type": "stream",
     "text": [
      "Found 5280 files belonging to 3 classes.\n"
     ]
    }
   ],
   "source": [
    "train_ds = train_ds = tf.keras.utils.image_dataset_from_directory(\n",
    "    train_p,\n",
    "    validation_split=None,\n",
    "    subset=None,\n",
    "    shuffle=True,\n",
    "    batch_size=32,\n",
    "    image_size=img_size\n",
    ")"
   ]
  },
  {
   "cell_type": "code",
   "execution_count": 12,
   "id": "d3d087be-f599-4eff-b07d-5ccb0b174a58",
   "metadata": {},
   "outputs": [
    {
     "ename": "TypeError",
     "evalue": "can only concatenate str (not \"tuple\") to str",
     "output_type": "error",
     "traceback": [
      "\u001b[0;31m---------------------------------------------------------------------------\u001b[0m",
      "\u001b[0;31mTypeError\u001b[0m                                 Traceback (most recent call last)",
      "Cell \u001b[0;32mIn[12], line 5\u001b[0m\n\u001b[1;32m      1\u001b[0m class_labels \u001b[38;5;241m=\u001b[39m []\n\u001b[1;32m      3\u001b[0m \u001b[38;5;28;01mfor\u001b[39;00m item \u001b[38;5;129;01min\u001b[39;00m train_ds:\n\u001b[1;32m      4\u001b[0m  \u001b[38;5;66;03m# Get all the file names\u001b[39;00m\n\u001b[0;32m----> 5\u001b[0m  all_classes \u001b[38;5;241m=\u001b[39m os\u001b[38;5;241m.\u001b[39mlistdir(\u001b[38;5;124;43m'\u001b[39;49m\u001b[38;5;124;43mtrain\u001b[39;49m\u001b[38;5;124;43m'\u001b[39;49m\u001b[43m \u001b[49m\u001b[38;5;241;43m+\u001b[39;49m\u001b[43m \u001b[49m\u001b[38;5;124;43m'\u001b[39;49m\u001b[38;5;124;43m/\u001b[39;49m\u001b[38;5;124;43m'\u001b[39;49m\u001b[43m \u001b[49m\u001b[38;5;241;43m+\u001b[39;49m\u001b[43mitem\u001b[49m)\n\u001b[1;32m      6\u001b[0m  \u001b[38;5;66;03m#print(all_classes)\u001b[39;00m\n\u001b[1;32m      7\u001b[0m \n\u001b[1;32m      8\u001b[0m  \u001b[38;5;66;03m# Add them to the list\u001b[39;00m\n\u001b[1;32m      9\u001b[0m  \u001b[38;5;28;01mfor\u001b[39;00m room \u001b[38;5;129;01min\u001b[39;00m all_classes:\n",
      "\u001b[0;31mTypeError\u001b[0m: can only concatenate str (not \"tuple\") to str"
     ]
    }
   ],
   "source": [
    "class_labels = []\n",
    "\n",
    "for item in train_ds:\n",
    " # Get all the file names\n",
    " all_classes = os.listdir('train' + '/' +item)\n",
    " #print(all_classes)\n",
    "\n",
    " # Add them to the list\n",
    " for room in all_classes:\n",
    "    class_labels.append((item, str('train_ds' + '/' +item) + '/' + room))\n",
    "    #print(class_labels[:5])"
   ]
  },
  {
   "cell_type": "code",
   "execution_count": null,
   "id": "82961b11-0fc9-4359-9974-153c455eeb9f",
   "metadata": {},
   "outputs": [],
   "source": []
  }
 ],
 "metadata": {
  "kernelspec": {
   "display_name": "Python 3.12(tensorflow)",
   "language": "python",
   "name": "tensorflow"
  },
  "language_info": {
   "codemirror_mode": {
    "name": "ipython",
    "version": 3
   },
   "file_extension": ".py",
   "mimetype": "text/x-python",
   "name": "python",
   "nbconvert_exporter": "python",
   "pygments_lexer": "ipython3",
   "version": "3.10.13"
  }
 },
 "nbformat": 4,
 "nbformat_minor": 5
}
