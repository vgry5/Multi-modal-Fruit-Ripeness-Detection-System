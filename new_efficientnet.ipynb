{
 "cells": [
  {
   "cell_type": "markdown",
   "id": "e97affdd-ffb0-40b8-81ec-a97d5e47f0f6",
   "metadata": {},
   "source": [
    "## Data Pre Processing"
   ]
  },
  {
   "cell_type": "code",
   "execution_count": 1,
   "id": "a3081beb-721d-4f78-9f39-553f8546ee7d",
   "metadata": {},
   "outputs": [
    {
     "name": "stdout",
     "output_type": "stream",
     "text": [
      "/Users/admin/Downloads/DSGP/Fruit Dataset_S\n"
     ]
    }
   ],
   "source": [
    "import numpy as np\n",
    "import tensorflow as tf\n",
    "import numpy as np \n",
    "import pandas as pd \n",
    "import matplotlib.pyplot as plt\n",
    "import os\n",
    "\n",
    "dataset_p = '/Users/admin/Downloads/DSGP/Fruit Dataset_S'\n",
    "print(dataset_p)\n"
   ]
  },
  {
   "cell_type": "code",
   "execution_count": null,
   "id": "db450776-e9d6-4a96-a64c-e17b1552f13a",
   "metadata": {},
   "outputs": [],
   "source": []
  }
 ],
 "metadata": {
  "kernelspec": {
   "display_name": "Python 3.12(tensorflow)",
   "language": "python",
   "name": "tensorflow"
  },
  "language_info": {
   "codemirror_mode": {
    "name": "ipython",
    "version": 3
   },
   "file_extension": ".py",
   "mimetype": "text/x-python",
   "name": "python",
   "nbconvert_exporter": "python",
   "pygments_lexer": "ipython3",
   "version": "3.10.13"
  }
 },
 "nbformat": 4,
 "nbformat_minor": 5
}
