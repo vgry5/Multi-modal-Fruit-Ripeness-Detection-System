{
 "cells": [
  {
   "cell_type": "code",
   "execution_count": 10,
   "id": "1dbd4cc7-158a-42d3-8229-1280a2cbb9cc",
   "metadata": {},
   "outputs": [],
   "source": [
    "import matplotlib.pyplot as plt \n",
    "import numpy as np \n",
    "import pathlib\n",
    "import os\n",
    "import PIL\n",
    "import tensorflow as tf \n",
    "from tensorflow import keras\n",
    "from tensorflow.keras import layers\n",
    "from tensorflow.python.keras.layers import Dense, Reshape, Flatten, Dropout, MaxPooling2D, Conv2D\n",
    "from keras.layers import BatchNormalization\n",
    "from tensorflow.keras.models import Sequential\n",
    "from tensorflow.keras.optimizers.legacy import Adam as LegacyAdam\n",
    "from tensorflow.keras.preprocessing.image import ImageDataGenerator"
   ]
  },
  {
   "cell_type": "code",
   "execution_count": 43,
   "id": "267cf419-9535-4ffe-b68b-16e63a3f307a",
   "metadata": {},
   "outputs": [],
   "source": [
    "dataset_dir = pathlib.Path('/Users/admin/Downloads/DSGP/Data Set/Mango')"
   ]
  },
  {
   "cell_type": "code",
   "execution_count": 44,
   "id": "0e824802-0307-498e-ab54-75a4cfb54d21",
   "metadata": {},
   "outputs": [
    {
     "name": "stdout",
     "output_type": "stream",
     "text": [
      "Found 975 files belonging to 3 classes.\n",
      "Using 780 files for training.\n"
     ]
    }
   ],
   "source": [
    "img_height, img_width = 224,224\n",
    "batch_size = 32\n",
    "train_ds = tf.keras.preprocessing.image_dataset_from_directory(\n",
    "    dataset_dir,\n",
    "    validation_split=0.2,\n",
    "    subset=\"training\",\n",
    "    seed=123,\n",
    "    label_mode=\"categorical\",\n",
    "    image_size=(img_height, img_width),\n",
    "    batch_size=batch_size)"
   ]
  },
  {
   "cell_type": "code",
   "execution_count": 13,
   "id": "039b98c2-2146-49a6-9dad-ab7e733490a9",
   "metadata": {},
   "outputs": [
    {
     "name": "stdout",
     "output_type": "stream",
     "text": [
      "Found 10160 files belonging to 3 classes.\n",
      "Using 2032 files for validation.\n"
     ]
    }
   ],
   "source": [
    "vali_ds = tf.keras.preprocessing.image_dataset_from_directory(\n",
    "    dataset_dir,\n",
    "    validation_split=0.2,\n",
    "    subset=\"validation\",\n",
    "    seed=123,\n",
    "    label_mode=\"categorical\",\n",
    "    image_size=(img_height, img_width),\n",
    "    batch_size=batch_size)"
   ]
  },
  {
   "cell_type": "code",
   "execution_count": 14,
   "id": "620e6009-f128-499d-9a3b-0f289b45394f",
   "metadata": {},
   "outputs": [
    {
     "name": "stdout",
     "output_type": "stream",
     "text": [
      "['Banana', 'Mango', 'Papaya']\n"
     ]
    }
   ],
   "source": [
    "class_names = train_ds.class_names\n",
    "print(class_names)"
   ]
  },
  {
   "cell_type": "code",
   "execution_count": 15,
   "id": "0cc53be3-61de-413c-bbb9-de3c1be01bd4",
   "metadata": {},
   "outputs": [],
   "source": [
    "VGG_model = Sequential()\n",
    "\n",
    "pretrained_m = keras.applications.VGG19(\n",
    "    include_top=True,\n",
    "    weights=\"imagenet\",\n",
    "    input_tensor=None,\n",
    "    input_shape=(224,224,3),\n",
    "    pooling=None,\n",
    "    classes=1000,\n",
    "    classifier_activation=\"softmax\",\n",
    ")\n",
    "for layer in pretrained_m.layers:\n",
    "    layer.trainable = False\n",
    "    \n",
    "VGG_model.add(pretrained_m)\n",
    "VGG_model.add(BatchNormalization())\n",
    "VGG_model.add(Flatten())\n",
    "VGG_model.add(Dense(256, activation='relu'))\n",
    "VGG_model.add(Dropout(0.2))\n",
    "VGG_model.add(Dense(3, activation='softmax'))"
   ]
  },
  {
   "cell_type": "code",
   "execution_count": 16,
   "id": "091150d5-ed00-476c-b82d-4adb9f4b7bf1",
   "metadata": {},
   "outputs": [
    {
     "name": "stdout",
     "output_type": "stream",
     "text": [
      "Model: \"sequential_3\"\n",
      "_________________________________________________________________\n",
      " Layer (type)                Output Shape              Param #   \n",
      "=================================================================\n",
      " vgg19 (Functional)          (None, 1000)              143667240 \n",
      "                                                                 \n",
      " batch_normalization_1 (Bat  (None, 1000)              4000      \n",
      " chNormalization)                                                \n",
      "                                                                 \n",
      " module_wrapper_1 (ModuleWr  (None, 1000)              0         \n",
      " apper)                                                          \n",
      "                                                                 \n",
      " module_wrapper_2 (ModuleWr  (None, 256)               256256    \n",
      " apper)                                                          \n",
      "                                                                 \n",
      " module_wrapper_3 (ModuleWr  (None, 256)               0         \n",
      " apper)                                                          \n",
      "                                                                 \n",
      " module_wrapper_4 (ModuleWr  (None, 3)                 771       \n",
      " apper)                                                          \n",
      "                                                                 \n",
      "=================================================================\n",
      "Total params: 143928267 (549.04 MB)\n",
      "Trainable params: 259027 (1011.82 KB)\n",
      "Non-trainable params: 143669240 (548.05 MB)\n",
      "_________________________________________________________________\n"
     ]
    }
   ],
   "source": [
    "VGG_model.summary()"
   ]
  },
  {
   "cell_type": "code",
   "execution_count": 17,
   "id": "26fb6ad7-76f1-4e4b-8f8d-7df7a9cd18ff",
   "metadata": {},
   "outputs": [],
   "source": [
    "VGG_model.compile(optimizer=LegacyAdam(learning_rate=0.01),loss='categorical_crossentropy',metrics=['accuracy'])"
   ]
  },
  {
   "cell_type": "code",
   "execution_count": 37,
   "id": "205f0c16-c3eb-459b-9fa1-f7acb2b89df1",
   "metadata": {},
   "outputs": [
    {
     "name": "stdout",
     "output_type": "stream",
     "text": [
      "Epoch 1/4\n",
      "254/254 [==============================] - 99s 387ms/step - loss: 0.3182 - accuracy: 0.9412 - val_loss: 0.5545 - val_accuracy: 0.9513\n",
      "Epoch 2/4\n",
      "254/254 [==============================] - 128s 504ms/step - loss: 0.3834 - accuracy: 0.9391 - val_loss: 1.2684 - val_accuracy: 0.9518\n",
      "Epoch 3/4\n",
      "254/254 [==============================] - 128s 504ms/step - loss: 0.4471 - accuracy: 0.9401 - val_loss: 0.9663 - val_accuracy: 0.9547\n",
      "Epoch 4/4\n",
      "254/254 [==============================] - 128s 504ms/step - loss: 0.4416 - accuracy: 0.9418 - val_loss: 0.7740 - val_accuracy: 0.9272\n"
     ]
    }
   ],
   "source": [
    "epochs = 4\n",
    "history =VGG_model.fit(\n",
    "    train_ds,\n",
    "    validation_data = vali_ds,\n",
    "    epochs=epochs)"
   ]
  },
  {
   "cell_type": "code",
   "execution_count": 38,
   "id": "273d2a3c-c2df-4531-b34a-5edec14cc22c",
   "metadata": {},
   "outputs": [
    {
     "data": {
      "image/png": "[encoded data removed]",
      "text/plain": [
       "<Figure size 640x480 with 1 Axes>"
      ]
     },
     "metadata": {},
     "output_type": "display_data"
    }
   ],
   "source": [
    "fig = plt.gcf()\n",
    "plt.plot(history.history['accuracy'])\n",
    "plt.plot(history.history['val_accuracy'])\n",
    "plt.axis(ymin=0.4,ymax=2)\n",
    "plt.grid()\n",
    "plt.title('Model Accuracy')\n",
    "plt.ylabel('Accuracy')\n",
    "plt.xlabel('Epochs')\n",
    "plt.legend(['train', 'validation'])\n",
    "plt.show()"
   ]
  },
  {
   "cell_type": "code",
   "execution_count": 39,
   "id": "1c912725-4b9b-4c8f-bc5f-bc65e6dde516",
   "metadata": {},
   "outputs": [
    {
     "data": {
      "image/png": "[encoded data removed]",
      "text/plain": [
       "<Figure size 640x480 with 1 Axes>"
      ]
     },
     "metadata": {},
     "output_type": "display_data"
    }
   ],
   "source": [
    "plt.plot(history.history['loss'])\n",
    "plt.plot(history.history['val_loss'])\n",
    "plt.grid()\n",
    "plt.title('Model Loss')\n",
    "plt.ylabel('Loss')\n",
    "plt.xlabel('Epochs')\n",
    "plt.legend(['train', 'validation'])\n",
    "plt.show()"
   ]
  },
  {
   "cell_type": "code",
   "execution_count": 40,
   "id": "7cae2429-7d9b-4bfb-a51b-609af6ed1f85",
   "metadata": {},
   "outputs": [
    {
     "name": "stdout",
     "output_type": "stream",
     "text": [
      "(1, 224, 224, 3)\n"
     ]
    }
   ],
   "source": [
    "import cv2\n",
    "image=cv2.imread('/Users/admin/Downloads/57866622bc065f294489ed57_produce_papaya.1.jpg')\n",
    "image_resized = cv2.resize(image, (img_height, img_width))\n",
    "image=np.expand_dims(image_resized,axis=0)\n",
    "print(image.shape)"
   ]
  },
  {
   "cell_type": "code",
   "execution_count": 41,
   "id": "af113de2-dd51-4187-a4a7-990ad1fe4730",
   "metadata": {},
   "outputs": [
    {
     "name": "stdout",
     "output_type": "stream",
     "text": [
      "1/1 [==============================] - 0s 19ms/step\n",
      "[[9.8906201e-01 1.0937910e-02 2.6751364e-08]]\n"
     ]
    }
   ],
   "source": [
    "pred=VGG_model.predict(image)\n",
    "print(pred)"
   ]
  },
  {
   "cell_type": "code",
   "execution_count": 42,
   "id": "e9ee99a5-bc3d-48ec-8dd7-3fd29b2d1fce",
   "metadata": {},
   "outputs": [
    {
     "name": "stdout",
     "output_type": "stream",
     "text": [
      "The fruit is a Banana\n"
     ]
    }
   ],
   "source": [
    "output_class = class_names[np.argmax(pred)]\n",
    "print(\"The fruit is a\", output_class)"
   ]
  },
  {
   "cell_type": "code",
   "execution_count": null,
   "id": "958dabd5-9eb2-4784-9d96-1ff52c3dd838",
   "metadata": {},
   "outputs": [],
   "source": []
  }
 ],
 "metadata": {
  "kernelspec": {
   "display_name": "Python 3.12(tensorflow)",
   "language": "python",
   "name": "tensorflow"
  },
  "language_info": {
   "codemirror_mode": {
    "name": "ipython",
    "version": 3
   },
   "file_extension": ".py",
   "mimetype": "text/x-python",
   "name": "python",
   "nbconvert_exporter": "python",
   "pygments_lexer": "ipython3",
   "version": "3.10.13"
  }
 },
 "nbformat": 4,
 "nbformat_minor": 5
}
