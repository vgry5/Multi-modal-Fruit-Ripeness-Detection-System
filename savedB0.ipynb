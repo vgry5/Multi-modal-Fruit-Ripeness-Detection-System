{
 "cells": [
  {
   "cell_type": "code",
   "execution_count": 45,
   "id": "6f1d2f1c-f107-4c99-a220-69299a692027",
   "metadata": {},
   "outputs": [],
   "source": [
    "import tensorflow as tf\n",
    "from tensorflow.keras.preprocessing import image\n",
    "import numpy as np"
   ]
  },
  {
   "cell_type": "code",
   "execution_count": 46,
   "id": "44f895bf-59c3-4632-b67a-0fc38a068764",
   "metadata": {},
   "outputs": [],
   "source": [
    "model = tf.keras.models.load_model('/Users/admin/Downloads/Multi-modal-Fruit-Ripeness-Detection-System/EfficientnetB0.keras')"
   ]
  },
  {
   "cell_type": "code",
   "execution_count": 47,
   "id": "9c0ad1d8-cc08-4620-819f-d4e332fba36d",
   "metadata": {},
   "outputs": [],
   "source": [
    "IMAGE_SIZE = (224, 224)\n",
    "img = image.load_img('/Users/admin/Downloads/DSGP/Data Set copy/Over Ripe/IMG20200717084615.jpg', target_size=IMAGE_SIZE)\n",
    "img_array = image.img_to_array(img)\n",
    "img_array /= 255.0\n",
    "img_array = np.expand_dims(img_array, axis=0)"
   ]
  },
  {
   "cell_type": "code",
   "execution_count": 48,
   "id": "7ebf81da-9e0f-44f0-bb73-dfc0ac2e91e7",
   "metadata": {},
   "outputs": [],
   "source": [
    "class_indices_to_labels = {\n",
    "    0: 'Over Ripe',\n",
    "    1: 'Ripe',\n",
    "    2: 'Unripe'\n",
    "}"
   ]
  },
  {
   "cell_type": "code",
   "execution_count": 49,
   "id": "e9c0a604-e6bf-417c-8190-14f519a75ab7",
   "metadata": {},
   "outputs": [
    {
     "name": "stdout",
     "output_type": "stream",
     "text": [
      "1/1 [==============================] - 1s 1s/step\n",
      "Predicted class: Over Ripe\n"
     ]
    }
   ],
   "source": [
    "predictions = model.predict(img_array)\n",
    "predicted_class_indices = np.argmax(predictions, axis=1)\n",
    "\n",
    "\n",
    "predicted_class = class_indices_to_labels[predicted_class_indices[0]]\n",
    "\n",
    "print(\"Predicted class:\", predicted_class)"
   ]
  },
  {
   "cell_type": "code",
   "execution_count": null,
   "id": "664d0601-6889-4c97-8699-b123555136db",
   "metadata": {},
   "outputs": [],
   "source": []
  }
 ],
 "metadata": {
  "kernelspec": {
   "display_name": "Python 3.12 (tensorflow)",
   "language": "python",
   "name": "tensorflow"
  },
  "language_info": {
   "codemirror_mode": {
    "name": "ipython",
    "version": 3
   },
   "file_extension": ".py",
   "mimetype": "text/x-python",
   "name": "python",
   "nbconvert_exporter": "python",
   "pygments_lexer": "ipython3",
   "version": "3.10.13"
  }
 },
 "nbformat": 4,
 "nbformat_minor": 5
}
